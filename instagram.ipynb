{
 "cells": [
  {
   "cell_type": "code",
   "execution_count": 2,
   "id": "dcf0d731",
   "metadata": {},
   "outputs": [],
   "source": [
    "import pandas as pd\n",
    "import numpy as np\n",
    "import os.path\n",
    "import matplotlib.pyplot as plt \n",
    "from sklearn.ensemble import RandomForestRegressor\n",
    "from sklearn.model_selection import cross_val_score, RepeatedKFold\n",
    "from sklearn.metrics import r2_score\n",
    "from sklearn.linear_model import Ridge, LinearRegression\n",
    "from scipy.stats import zscore\n",
    "from sklearn.pipeline import Pipeline\n",
    "from sklearn.feature_selection import RFECV\n"
   ]
  },
  {
   "cell_type": "code",
   "execution_count": 3,
   "id": "4baa9b14",
   "metadata": {},
   "outputs": [],
   "source": [
    "path_u = os.path.abspath(\"usersData.csv\")\n",
    "path_f = os.path.abspath(\"followers_views.csv\")\n",
    "path_l = os.path.abspath(\"likes_views.csv\")\n",
    "user = pd.read_csv(path_u)\n",
    "follower = pd.read_csv(path_f)\n",
    "likes = pd.read_csv(path_l)\n",
    "del path_u, path_f, path_l"
   ]
  },
  {
   "cell_type": "code",
   "execution_count": 4,
   "id": "01a18abd",
   "metadata": {},
   "outputs": [
    {
     "name": "stdout",
     "output_type": "stream",
     "text": [
      "(114781, 12)\n"
     ]
    },
    {
     "data": {
      "text/html": [
       "<div>\n",
       "<style scoped>\n",
       "    .dataframe tbody tr th:only-of-type {\n",
       "        vertical-align: middle;\n",
       "    }\n",
       "\n",
       "    .dataframe tbody tr th {\n",
       "        vertical-align: top;\n",
       "    }\n",
       "\n",
       "    .dataframe thead th {\n",
       "        text-align: right;\n",
       "    }\n",
       "</style>\n",
       "<table border=\"1\" class=\"dataframe\">\n",
       "  <thead>\n",
       "    <tr style=\"text-align: right;\">\n",
       "      <th></th>\n",
       "      <th>avg_likes</th>\n",
       "      <th>avg_comments</th>\n",
       "      <th>avg_followers</th>\n",
       "      <th>avg_posts</th>\n",
       "      <th>max_likes</th>\n",
       "      <th>min_likes</th>\n",
       "      <th>avg_views</th>\n",
       "      <th>likes*followers</th>\n",
       "      <th>followers/post</th>\n",
       "      <th>comments/likes</th>\n",
       "      <th>focus dif</th>\n",
       "      <th>focus ratio</th>\n",
       "    </tr>\n",
       "  </thead>\n",
       "  <tbody>\n",
       "    <tr>\n",
       "      <th>0</th>\n",
       "      <td>97.50</td>\n",
       "      <td>3.00</td>\n",
       "      <td>13178.0</td>\n",
       "      <td>1967.0</td>\n",
       "      <td>113</td>\n",
       "      <td>59</td>\n",
       "      <td>333.1667</td>\n",
       "      <td>1133.514446</td>\n",
       "      <td>6.699542</td>\n",
       "      <td>0.030769</td>\n",
       "      <td>54</td>\n",
       "      <td>1.915254</td>\n",
       "    </tr>\n",
       "    <tr>\n",
       "      <th>1</th>\n",
       "      <td>91.75</td>\n",
       "      <td>9.25</td>\n",
       "      <td>4228.0</td>\n",
       "      <td>1402.0</td>\n",
       "      <td>174</td>\n",
       "      <td>39</td>\n",
       "      <td>308.6250</td>\n",
       "      <td>622.831438</td>\n",
       "      <td>3.015692</td>\n",
       "      <td>0.100817</td>\n",
       "      <td>135</td>\n",
       "      <td>4.461538</td>\n",
       "    </tr>\n",
       "    <tr>\n",
       "      <th>2</th>\n",
       "      <td>33.00</td>\n",
       "      <td>3.50</td>\n",
       "      <td>2212.0</td>\n",
       "      <td>2471.0</td>\n",
       "      <td>46</td>\n",
       "      <td>23</td>\n",
       "      <td>126.7500</td>\n",
       "      <td>270.177719</td>\n",
       "      <td>0.895184</td>\n",
       "      <td>0.106061</td>\n",
       "      <td>23</td>\n",
       "      <td>2.000000</td>\n",
       "    </tr>\n",
       "    <tr>\n",
       "      <th>3</th>\n",
       "      <td>20.00</td>\n",
       "      <td>3.50</td>\n",
       "      <td>203.0</td>\n",
       "      <td>1838.0</td>\n",
       "      <td>26</td>\n",
       "      <td>16</td>\n",
       "      <td>65.5000</td>\n",
       "      <td>63.718129</td>\n",
       "      <td>0.110446</td>\n",
       "      <td>0.175000</td>\n",
       "      <td>10</td>\n",
       "      <td>1.625000</td>\n",
       "    </tr>\n",
       "    <tr>\n",
       "      <th>4</th>\n",
       "      <td>13.20</td>\n",
       "      <td>1.20</td>\n",
       "      <td>132.0</td>\n",
       "      <td>309.0</td>\n",
       "      <td>18</td>\n",
       "      <td>9</td>\n",
       "      <td>61.2000</td>\n",
       "      <td>41.742065</td>\n",
       "      <td>0.427184</td>\n",
       "      <td>0.090909</td>\n",
       "      <td>9</td>\n",
       "      <td>2.000000</td>\n",
       "    </tr>\n",
       "  </tbody>\n",
       "</table>\n",
       "</div>"
      ],
      "text/plain": [
       "   avg_likes  avg_comments  avg_followers  avg_posts  max_likes  min_likes  \\\n",
       "0      97.50          3.00        13178.0     1967.0        113         59   \n",
       "1      91.75          9.25         4228.0     1402.0        174         39   \n",
       "2      33.00          3.50         2212.0     2471.0         46         23   \n",
       "3      20.00          3.50          203.0     1838.0         26         16   \n",
       "4      13.20          1.20          132.0      309.0         18          9   \n",
       "\n",
       "   avg_views  likes*followers  followers/post  comments/likes  focus dif  \\\n",
       "0   333.1667      1133.514446        6.699542        0.030769         54   \n",
       "1   308.6250       622.831438        3.015692        0.100817        135   \n",
       "2   126.7500       270.177719        0.895184        0.106061         23   \n",
       "3    65.5000        63.718129        0.110446        0.175000         10   \n",
       "4    61.2000        41.742065        0.427184        0.090909          9   \n",
       "\n",
       "   focus ratio  \n",
       "0     1.915254  \n",
       "1     4.461538  \n",
       "2     2.000000  \n",
       "3     1.625000  \n",
       "4     2.000000  "
      ]
     },
     "execution_count": 4,
     "metadata": {},
     "output_type": "execute_result"
    }
   ],
   "source": [
    "user[\"likes*followers\"] = np.sqrt(user['avg_likes']*user[\"avg_followers\"])\n",
    "user[\"followers/post\"] = user[\"avg_followers\"] / user[\"avg_posts\"]\n",
    "user[\"comments/likes\"] = user[\"avg_comments\"] / user[\"avg_likes\"]\n",
    "user[\"focus dif\"] = user[\"max_likes\"] - user[\"min_likes\"]\n",
    "user[\"focus ratio\"] = user[\"max_likes\"] / user[\"min_likes\"]\n",
    "print(user.shape)\n",
    "user.head()"
   ]
  },
  {
   "cell_type": "code",
   "execution_count": 4,
   "id": "4011bad1",
   "metadata": {},
   "outputs": [
    {
     "name": "stdout",
     "output_type": "stream",
     "text": [
      "(1422894, 2)\n"
     ]
    },
    {
     "data": {
      "text/html": [
       "<div>\n",
       "<style scoped>\n",
       "    .dataframe tbody tr th:only-of-type {\n",
       "        vertical-align: middle;\n",
       "    }\n",
       "\n",
       "    .dataframe tbody tr th {\n",
       "        vertical-align: top;\n",
       "    }\n",
       "\n",
       "    .dataframe thead th {\n",
       "        text-align: right;\n",
       "    }\n",
       "</style>\n",
       "<table border=\"1\" class=\"dataframe\">\n",
       "  <thead>\n",
       "    <tr style=\"text-align: right;\">\n",
       "      <th></th>\n",
       "      <th>followers</th>\n",
       "      <th>views</th>\n",
       "    </tr>\n",
       "  </thead>\n",
       "  <tbody>\n",
       "    <tr>\n",
       "      <th>0</th>\n",
       "      <td>13178</td>\n",
       "      <td>250</td>\n",
       "    </tr>\n",
       "    <tr>\n",
       "      <th>1</th>\n",
       "      <td>13178</td>\n",
       "      <td>604</td>\n",
       "    </tr>\n",
       "    <tr>\n",
       "      <th>2</th>\n",
       "      <td>13178</td>\n",
       "      <td>239</td>\n",
       "    </tr>\n",
       "    <tr>\n",
       "      <th>3</th>\n",
       "      <td>13178</td>\n",
       "      <td>858</td>\n",
       "    </tr>\n",
       "    <tr>\n",
       "      <th>4</th>\n",
       "      <td>13178</td>\n",
       "      <td>271</td>\n",
       "    </tr>\n",
       "  </tbody>\n",
       "</table>\n",
       "</div>"
      ],
      "text/plain": [
       "   followers  views\n",
       "0      13178    250\n",
       "1      13178    604\n",
       "2      13178    239\n",
       "3      13178    858\n",
       "4      13178    271"
      ]
     },
     "execution_count": 4,
     "metadata": {},
     "output_type": "execute_result"
    }
   ],
   "source": [
    "print(follower.shape)\n",
    "follower.head()"
   ]
  },
  {
   "cell_type": "code",
   "execution_count": 5,
   "id": "c35279a2",
   "metadata": {},
   "outputs": [
    {
     "name": "stdout",
     "output_type": "stream",
     "text": [
      "(1426188, 2)\n"
     ]
    },
    {
     "data": {
      "text/html": [
       "<div>\n",
       "<style scoped>\n",
       "    .dataframe tbody tr th:only-of-type {\n",
       "        vertical-align: middle;\n",
       "    }\n",
       "\n",
       "    .dataframe tbody tr th {\n",
       "        vertical-align: top;\n",
       "    }\n",
       "\n",
       "    .dataframe thead th {\n",
       "        text-align: right;\n",
       "    }\n",
       "</style>\n",
       "<table border=\"1\" class=\"dataframe\">\n",
       "  <thead>\n",
       "    <tr style=\"text-align: right;\">\n",
       "      <th></th>\n",
       "      <th>likes</th>\n",
       "      <th>views</th>\n",
       "    </tr>\n",
       "  </thead>\n",
       "  <tbody>\n",
       "    <tr>\n",
       "      <th>0</th>\n",
       "      <td>98</td>\n",
       "      <td>250</td>\n",
       "    </tr>\n",
       "    <tr>\n",
       "      <th>1</th>\n",
       "      <td>100</td>\n",
       "      <td>604</td>\n",
       "    </tr>\n",
       "    <tr>\n",
       "      <th>2</th>\n",
       "      <td>109</td>\n",
       "      <td>239</td>\n",
       "    </tr>\n",
       "    <tr>\n",
       "      <th>3</th>\n",
       "      <td>103</td>\n",
       "      <td>858</td>\n",
       "    </tr>\n",
       "    <tr>\n",
       "      <th>4</th>\n",
       "      <td>106</td>\n",
       "      <td>271</td>\n",
       "    </tr>\n",
       "  </tbody>\n",
       "</table>\n",
       "</div>"
      ],
      "text/plain": [
       "   likes  views\n",
       "0     98    250\n",
       "1    100    604\n",
       "2    109    239\n",
       "3    103    858\n",
       "4    106    271"
      ]
     },
     "execution_count": 5,
     "metadata": {},
     "output_type": "execute_result"
    }
   ],
   "source": [
    "print(likes.shape)\n",
    "likes.head()"
   ]
  },
  {
   "cell_type": "markdown",
   "id": "54bb4975",
   "metadata": {},
   "source": [
    "#### Create graphs "
   ]
  },
  {
   "cell_type": "code",
   "execution_count": 6,
   "id": "0ef1f3fd",
   "metadata": {
    "scrolled": true
   },
   "outputs": [
    {
     "name": "stdout",
     "output_type": "stream",
     "text": [
      "Mean views: 745.0688204134606\n"
     ]
    },
    {
     "data": {
      "image/png": "[encoded data removed]",
      "text/plain": [
       "<Figure size 432x288 with 1 Axes>"
      ]
     },
     "metadata": {
      "needs_background": "light"
     },
     "output_type": "display_data"
    },
    {
     "data": {
      "image/png": "[encoded data removed]",
      "text/plain": [
       "<Figure size 576x288 with 1 Axes>"
      ]
     },
     "metadata": {
      "needs_background": "light"
     },
     "output_type": "display_data"
    },
    {
     "data": {
      "text/plain": [
       "Text(0, 0.5, 'Views')"
      ]
     },
     "execution_count": 6,
     "metadata": {},
     "output_type": "execute_result"
    },
    {
     "data": {
      "image/png": "[encoded data removed]",
      "text/plain": [
       "<Figure size 576x288 with 1 Axes>"
      ]
     },
     "metadata": {
      "needs_background": "light"
     },
     "output_type": "display_data"
    }
   ],
   "source": [
    "views_log = np.log10(user[\"avg_views\"])\n",
    "print(\"Mean views: {}\".format(10**(views_log.mean())))\n",
    "plt.hist(views_log,bins=100)\n",
    "plt.axvline(x=views_log.mean(),linestyle='--',color='cyan')\n",
    "plt.xscale(\"log\")\n",
    "plt.xlim(left=0.9,right=11)\n",
    "plt.xlabel(\"Log average Views\")\n",
    "plt.ylabel(\"Number of instagrammers\")\n",
    "plt.show()\n",
    "\n",
    "plt.figure(figsize=(8,4))\n",
    "plt.plot(follower[\"followers\"],follower[\"views\"],\".\")\n",
    "plt.xscale(\"log\")\n",
    "plt.yscale(\"log\")\n",
    "plt.xlabel(\"Followers\")\n",
    "plt.ylabel(\"Views\")\n",
    "plt.plot([1,10**8],[1,10**8],\"r-\")\n",
    "plt.show()\n",
    "\n",
    "plt.figure(figsize=(8,4))\n",
    "plt.plot(likes[\"likes\"],likes[\"views\"],\".\")\n",
    "plt.xscale(\"log\")\n",
    "plt.yscale(\"log\")\n",
    "plt.xlabel(\"Engagement\")\n",
    "plt.plot([1,2*10**8],[1,2*10**8],\"r-\")\n",
    "plt.ylabel(\"Views\")\n",
    "\n",
    "#https://stackoverflow.com/questions/46415327/matplotlib-plot-points-look-fuzzy-in-python-sharp-in-ipython"
   ]
  },
  {
   "cell_type": "markdown",
   "id": "84533b9e",
   "metadata": {},
   "source": [
    "#### Merging will be hard, followers are not unique "
   ]
  },
  {
   "cell_type": "code",
   "execution_count": 7,
   "id": "53c0c649",
   "metadata": {},
   "outputs": [
    {
     "data": {
      "text/html": [
       "<div>\n",
       "<style scoped>\n",
       "    .dataframe tbody tr th:only-of-type {\n",
       "        vertical-align: middle;\n",
       "    }\n",
       "\n",
       "    .dataframe tbody tr th {\n",
       "        vertical-align: top;\n",
       "    }\n",
       "\n",
       "    .dataframe thead th {\n",
       "        text-align: right;\n",
       "    }\n",
       "</style>\n",
       "<table border=\"1\" class=\"dataframe\">\n",
       "  <thead>\n",
       "    <tr style=\"text-align: right;\">\n",
       "      <th></th>\n",
       "      <th>followers</th>\n",
       "      <th>views</th>\n",
       "    </tr>\n",
       "  </thead>\n",
       "  <tbody>\n",
       "    <tr>\n",
       "      <th>0</th>\n",
       "      <td>13178</td>\n",
       "      <td>250</td>\n",
       "    </tr>\n",
       "    <tr>\n",
       "      <th>1</th>\n",
       "      <td>13178</td>\n",
       "      <td>604</td>\n",
       "    </tr>\n",
       "    <tr>\n",
       "      <th>2</th>\n",
       "      <td>13178</td>\n",
       "      <td>239</td>\n",
       "    </tr>\n",
       "    <tr>\n",
       "      <th>3</th>\n",
       "      <td>13178</td>\n",
       "      <td>858</td>\n",
       "    </tr>\n",
       "    <tr>\n",
       "      <th>4</th>\n",
       "      <td>13178</td>\n",
       "      <td>271</td>\n",
       "    </tr>\n",
       "    <tr>\n",
       "      <th>5</th>\n",
       "      <td>13178</td>\n",
       "      <td>317</td>\n",
       "    </tr>\n",
       "    <tr>\n",
       "      <th>6</th>\n",
       "      <td>13178</td>\n",
       "      <td>318</td>\n",
       "    </tr>\n",
       "    <tr>\n",
       "      <th>7</th>\n",
       "      <td>13178</td>\n",
       "      <td>126</td>\n",
       "    </tr>\n",
       "    <tr>\n",
       "      <th>136754</th>\n",
       "      <td>13178</td>\n",
       "      <td>1629</td>\n",
       "    </tr>\n",
       "    <tr>\n",
       "      <th>136755</th>\n",
       "      <td>13178</td>\n",
       "      <td>1866</td>\n",
       "    </tr>\n",
       "    <tr>\n",
       "      <th>136756</th>\n",
       "      <td>13178</td>\n",
       "      <td>1368</td>\n",
       "    </tr>\n",
       "  </tbody>\n",
       "</table>\n",
       "</div>"
      ],
      "text/plain": [
       "        followers  views\n",
       "0           13178    250\n",
       "1           13178    604\n",
       "2           13178    239\n",
       "3           13178    858\n",
       "4           13178    271\n",
       "5           13178    317\n",
       "6           13178    318\n",
       "7           13178    126\n",
       "136754      13178   1629\n",
       "136755      13178   1866\n",
       "136756      13178   1368"
      ]
     },
     "execution_count": 7,
     "metadata": {},
     "output_type": "execute_result"
    }
   ],
   "source": [
    "follower[follower['followers']== 13178].head(11)"
   ]
  },
  {
   "cell_type": "markdown",
   "id": "0d8bff90",
   "metadata": {},
   "source": [
    "#### Transform \"likes\" and \"followers\" using log scale , drop inf "
   ]
  },
  {
   "cell_type": "code",
   "execution_count": 5,
   "id": "c7607f93",
   "metadata": {},
   "outputs": [],
   "source": [
    "user_scaled = user.copy()\n",
    "user_scaled.loc(1)[\"avg_likes\"] = user[\"avg_likes\"] / np.log(user[\"avg_likes\"])\n",
    "user_scaled.loc(1)[\"avg_followers\"] = user[\"avg_followers\"] / np.log(user[\"avg_followers\"])\n",
    "user_scaled = user_scaled.loc[user_scaled[\"avg_likes\"] != np.inf,:]\n",
    "\n",
    "x_full_unscaled, y_full_unscaled = user.drop(\"avg_views\",1), user[\"avg_views\"]\n",
    "x_full, y_full = user_scaled.drop(\"avg_views\",1), user_scaled[\"avg_views\"]"
   ]
  },
  {
   "cell_type": "markdown",
   "id": "af8b4891",
   "metadata": {},
   "source": [
    "Baselines"
   ]
  },
  {
   "cell_type": "code",
   "execution_count": 6,
   "id": "b68c1b3a",
   "metadata": {},
   "outputs": [
    {
     "name": "stdout",
     "output_type": "stream",
     "text": [
      "R2 follower baseline: 0.136 (0.413)\n",
      "R2 like baseline: 0.676 (0.077)\n"
     ]
    }
   ],
   "source": [
    "\n",
    "lin = LinearRegression()\n",
    "\n",
    "cv = RepeatedKFold(n_splits=5, n_repeats=1, random_state=1)\n",
    "\n",
    "#follower baseline\n",
    "n_scores = cross_val_score(lin, user_scaled[\"avg_followers\"].values.reshape(-1, 1), y_full, scoring='r2', cv=cv, n_jobs=-1)\n",
    "print('R2 follower baseline: %.3f (%.3f)' % (n_scores.mean(), n_scores.std()))\n",
    "\n",
    "#like baseline\n",
    "n_scores = cross_val_score(lin, user_scaled[\"avg_likes\"].values.reshape(-1, 1), y_full, scoring='r2', cv=cv, n_jobs=-1)\n",
    "print('R2 like baseline: %.3f (%.3f)' % (n_scores.mean(), n_scores.std()))"
   ]
  },
  {
   "cell_type": "markdown",
   "id": "c415e7cb",
   "metadata": {},
   "source": [
    "Applying RFE, no need for different seeds just increase n_repeats"
   ]
  },
  {
   "cell_type": "code",
   "execution_count": 12,
   "id": "a03ae006",
   "metadata": {},
   "outputs": [
    {
     "name": "stdout",
     "output_type": "stream",
     "text": [
      "R2 Randomforest reduced: 0.637 (0.112)\n"
     ]
    }
   ],
   "source": [
    "rfe = RFECV(estimator=RandomForestRegressor())\n",
    "forest = RandomForestRegressor()\n",
    "pipeline_forest = Pipeline(steps=[('feature selection',rfe),('model',forest)])\n",
    "\n",
    "cv = RepeatedKFold(n_splits=5, n_repeats=1, random_state=1)\n",
    "n_scores = cross_val_score(pipeline_forest, x_full, y_full, scoring='r2', cv=cv, n_jobs=None)\n",
    "\n",
    "print('R2 Randomforest reduced: %.3f (%.3f)' % (n_scores.mean(), n_scores.std()))"
   ]
  },
  {
   "cell_type": "code",
   "execution_count": null,
   "id": "e5966e80",
   "metadata": {},
   "outputs": [],
   "source": []
  },
  {
   "cell_type": "code",
   "execution_count": 11,
   "id": "66ac3d5b",
   "metadata": {},
   "outputs": [
    {
     "name": "stdout",
     "output_type": "stream",
     "text": [
      "R2 Ridge reduced: 0.603 (0.209)\n"
     ]
    }
   ],
   "source": [
    "rfe_r = RFECV(estimator=Ridge())\n",
    "ridge = Ridge()\n",
    "pipeline_ridge = Pipeline(steps=[('feature selection',rfe_r),('model',ridge)])\n",
    "\n",
    "cv = RepeatedKFold(n_splits=5, n_repeats=1, random_state=1)\n",
    "n_scores = cross_val_score(pipeline_ridge, x_full, y_full, scoring='r2', cv=cv, n_jobs=None)\n",
    "\n",
    "print('R2 Ridge reduced: %.3f (%.3f)' % (n_scores.mean(), n_scores.std()))"
   ]
  },
  {
   "cell_type": "markdown",
   "id": "db0796b4",
   "metadata": {},
   "source": [
    "#### Using \"avg_views\" as the variable to predict"
   ]
  },
  {
   "cell_type": "markdown",
   "id": "f989eaf1",
   "metadata": {},
   "source": [
    "Random Forest unscaled"
   ]
  },
  {
   "cell_type": "code",
   "execution_count": 13,
   "id": "9e058b89",
   "metadata": {},
   "outputs": [
    {
     "name": "stdout",
     "output_type": "stream",
     "text": [
      "CV R2 score: 0.5977448647705879\n"
     ]
    },
    {
     "data": {
      "text/plain": [
       "array([0.60305927, 0.31575175, 0.73631195, 0.65415852, 0.67944284])"
      ]
     },
     "execution_count": 13,
     "metadata": {},
     "output_type": "execute_result"
    }
   ],
   "source": [
    "forest = RandomForestRegressor()\n",
    "scores = cross_val_score(forest, x_full, y_full, scoring='r2', cv=5)\n",
    "print(\"CV R2 score: {}\".format(scores.mean()))\n",
    "scores\n"
   ]
  },
  {
   "cell_type": "markdown",
   "id": "d716ee6a",
   "metadata": {},
   "source": [
    "Random Forest scaled "
   ]
  },
  {
   "cell_type": "code",
   "execution_count": 14,
   "id": "42b70a29",
   "metadata": {},
   "outputs": [
    {
     "name": "stdout",
     "output_type": "stream",
     "text": [
      "CV R2 score: 0.5715642010048162\n"
     ]
    },
    {
     "data": {
      "text/plain": [
       "array([0.58984397, 0.19917776, 0.74477864, 0.65222915, 0.67179149])"
      ]
     },
     "execution_count": 14,
     "metadata": {},
     "output_type": "execute_result"
    }
   ],
   "source": [
    "x_full, y_full = user_scaled.drop(\"avg_views\",1), user_scaled[\"avg_views\"]\n",
    "forest = RandomForestRegressor()\n",
    "scores = cross_val_score(forest, x_full, y_full, scoring='r2', cv=5)\n",
    "print(\"CV R2 score: {}\".format(scores.mean()))\n",
    "scores\n"
   ]
  },
  {
   "cell_type": "markdown",
   "id": "c60517e7",
   "metadata": {},
   "source": [
    "Ridge scaled"
   ]
  },
  {
   "cell_type": "code",
   "execution_count": 15,
   "id": "3568f2df",
   "metadata": {},
   "outputs": [
    {
     "name": "stdout",
     "output_type": "stream",
     "text": [
      "CV R2 score: 0.6176009849044936\n"
     ]
    },
    {
     "data": {
      "text/plain": [
       "array([0.64787687, 0.50037248, 0.61071777, 0.65533374, 0.67370406])"
      ]
     },
     "execution_count": 15,
     "metadata": {},
     "output_type": "execute_result"
    }
   ],
   "source": [
    "ridge = Ridge()\n",
    "scores = cross_val_score(ridge, x_full, y_full, scoring='r2', cv=5)\n",
    "print(\"CV R2 score: {}\".format(scores.mean()))\n",
    "scores\n"
   ]
  },
  {
   "cell_type": "markdown",
   "id": "d390c7eb",
   "metadata": {},
   "source": [
    "Removing **users** with \"followers/post\" or \"comments/likes\" outside of 2 std deviations"
   ]
  },
  {
   "cell_type": "code",
   "execution_count": null,
   "id": "deae536f",
   "metadata": {},
   "outputs": [],
   "source": [
    "removed_outliers = user_scaled[(abs(zscore(user_scaled['followers/post'])) < 2) & (abs(zscore(user_scaled['comments/likes'])) < 2 )]\n",
    "\n",
    "views_log = np.log10(removed_outliers[\"avg_views\"])\n",
    "print(\"Mean views: {} \\nMean views in the paper: 748\".format(10**(views_log.mean())))\n",
    "plt.hist(views_log,bins=100)\n",
    "plt.axvline(x=views_log.mean(),linestyle='--',color='cyan')\n",
    "plt.xscale(\"log\")\n",
    "plt.xlim(left=0.9,right=11)\n",
    "plt.xlabel(\"Log average Views\")\n",
    "plt.ylabel(\"Number of instagrammers\")\n",
    "plt.show()"
   ]
  },
  {
   "cell_type": "code",
   "execution_count": null,
   "id": "b3c60ab2",
   "metadata": {},
   "outputs": [],
   "source": []
  },
  {
   "cell_type": "code",
   "execution_count": null,
   "id": "f1051349",
   "metadata": {},
   "outputs": [],
   "source": []
  },
  {
   "cell_type": "code",
   "execution_count": null,
   "id": "d0f1b401",
   "metadata": {},
   "outputs": [],
   "source": []
  },
  {
   "cell_type": "code",
   "execution_count": null,
   "id": "63065008",
   "metadata": {},
   "outputs": [],
   "source": []
  },
  {
   "cell_type": "code",
   "execution_count": 16,
   "id": "487fa800",
   "metadata": {},
   "outputs": [
    {
     "data": {
      "text/plain": [
       "<function ntpath.abspath(path)>"
      ]
     },
     "execution_count": 16,
     "metadata": {},
     "output_type": "execute_result"
    }
   ],
   "source": [
    "path_l = os.path.abspath\n",
    "path_l"
   ]
  },
  {
   "cell_type": "code",
   "execution_count": 17,
   "id": "0d9a29d6",
   "metadata": {},
   "outputs": [
    {
     "data": {
      "text/plain": [
       "avg_likes          0\n",
       "avg_comments       0\n",
       "avg_followers      0\n",
       "avg_posts          0\n",
       "max_likes          0\n",
       "min_likes          0\n",
       "avg_views          0\n",
       "likes*followers    0\n",
       "followers/post     0\n",
       "comments/likes     0\n",
       "focus dif          0\n",
       "focus ratio        0\n",
       "dtype: int64"
      ]
     },
     "execution_count": 17,
     "metadata": {},
     "output_type": "execute_result"
    }
   ],
   "source": [
    "user_scaled.isna().sum()"
   ]
  }
 ],
 "metadata": {
  "kernelspec": {
   "display_name": "Python 3",
   "language": "python",
   "name": "python3"
  },
  "language_info": {
   "codemirror_mode": {
    "name": "ipython",
    "version": 3
   },
   "file_extension": ".py",
   "mimetype": "text/x-python",
   "name": "python",
   "nbconvert_exporter": "python",
   "pygments_lexer": "ipython3",
   "version": "3.8.8"
  }
 },
 "nbformat": 4,
 "nbformat_minor": 5
}
