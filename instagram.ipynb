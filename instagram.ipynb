{
 "cells": [
  {
   "cell_type": "code",
   "execution_count": 21,
   "id": "dcf0d731",
   "metadata": {},
   "outputs": [],
   "source": [
    "import pandas as pd\n",
    "import numpy as np\n",
    "import os.path\n",
    "import matplotlib.pyplot as plt \n",
    "from sklearn.ensemble import RandomForestRegressor\n",
    "from sklearn.model_selection import cross_val_score\n",
    "from sklearn.metrics import r2_score\n",
    "from sklearn.linear_model import Ridge"
   ]
  },
  {
   "cell_type": "code",
   "execution_count": 2,
   "id": "4baa9b14",
   "metadata": {},
   "outputs": [],
   "source": [
    "path_u = os.path.abspath(\"usersData.csv\")\n",
    "path_f = os.path.abspath(\"followers_views.csv\")\n",
    "path_l = os.path.abspath(\"likes_views.csv\")\n",
    "user = pd.read_csv(path_u)\n",
    "follower = pd.read_csv(path_f)\n",
    "likes = pd.read_csv(path_l)\n",
    "del path_u, path_f, path_l"
   ]
  },
  {
   "cell_type": "code",
   "execution_count": 3,
   "id": "01a18abd",
   "metadata": {},
   "outputs": [
    {
     "data": {
      "text/html": [
       "<div>\n",
       "<style scoped>\n",
       "    .dataframe tbody tr th:only-of-type {\n",
       "        vertical-align: middle;\n",
       "    }\n",
       "\n",
       "    .dataframe tbody tr th {\n",
       "        vertical-align: top;\n",
       "    }\n",
       "\n",
       "    .dataframe thead th {\n",
       "        text-align: right;\n",
       "    }\n",
       "</style>\n",
       "<table border=\"1\" class=\"dataframe\">\n",
       "  <thead>\n",
       "    <tr style=\"text-align: right;\">\n",
       "      <th></th>\n",
       "      <th>avg_likes</th>\n",
       "      <th>avg_comments</th>\n",
       "      <th>avg_followers</th>\n",
       "      <th>avg_posts</th>\n",
       "      <th>max_likes</th>\n",
       "      <th>min_likes</th>\n",
       "      <th>avg_views</th>\n",
       "      <th>likes*followers</th>\n",
       "      <th>followers/post</th>\n",
       "      <th>comments/likes</th>\n",
       "      <th>focus dif</th>\n",
       "      <th>focus ratio</th>\n",
       "    </tr>\n",
       "  </thead>\n",
       "  <tbody>\n",
       "    <tr>\n",
       "      <th>0</th>\n",
       "      <td>97.50</td>\n",
       "      <td>3.00</td>\n",
       "      <td>13178.0</td>\n",
       "      <td>1967.0</td>\n",
       "      <td>113</td>\n",
       "      <td>59</td>\n",
       "      <td>333.1667</td>\n",
       "      <td>1133.514446</td>\n",
       "      <td>6.699542</td>\n",
       "      <td>0.030769</td>\n",
       "      <td>54</td>\n",
       "      <td>1.915254</td>\n",
       "    </tr>\n",
       "    <tr>\n",
       "      <th>1</th>\n",
       "      <td>91.75</td>\n",
       "      <td>9.25</td>\n",
       "      <td>4228.0</td>\n",
       "      <td>1402.0</td>\n",
       "      <td>174</td>\n",
       "      <td>39</td>\n",
       "      <td>308.6250</td>\n",
       "      <td>622.831438</td>\n",
       "      <td>3.015692</td>\n",
       "      <td>0.100817</td>\n",
       "      <td>135</td>\n",
       "      <td>4.461538</td>\n",
       "    </tr>\n",
       "    <tr>\n",
       "      <th>2</th>\n",
       "      <td>33.00</td>\n",
       "      <td>3.50</td>\n",
       "      <td>2212.0</td>\n",
       "      <td>2471.0</td>\n",
       "      <td>46</td>\n",
       "      <td>23</td>\n",
       "      <td>126.7500</td>\n",
       "      <td>270.177719</td>\n",
       "      <td>0.895184</td>\n",
       "      <td>0.106061</td>\n",
       "      <td>23</td>\n",
       "      <td>2.000000</td>\n",
       "    </tr>\n",
       "    <tr>\n",
       "      <th>3</th>\n",
       "      <td>20.00</td>\n",
       "      <td>3.50</td>\n",
       "      <td>203.0</td>\n",
       "      <td>1838.0</td>\n",
       "      <td>26</td>\n",
       "      <td>16</td>\n",
       "      <td>65.5000</td>\n",
       "      <td>63.718129</td>\n",
       "      <td>0.110446</td>\n",
       "      <td>0.175000</td>\n",
       "      <td>10</td>\n",
       "      <td>1.625000</td>\n",
       "    </tr>\n",
       "    <tr>\n",
       "      <th>4</th>\n",
       "      <td>13.20</td>\n",
       "      <td>1.20</td>\n",
       "      <td>132.0</td>\n",
       "      <td>309.0</td>\n",
       "      <td>18</td>\n",
       "      <td>9</td>\n",
       "      <td>61.2000</td>\n",
       "      <td>41.742065</td>\n",
       "      <td>0.427184</td>\n",
       "      <td>0.090909</td>\n",
       "      <td>9</td>\n",
       "      <td>2.000000</td>\n",
       "    </tr>\n",
       "  </tbody>\n",
       "</table>\n",
       "</div>"
      ],
      "text/plain": [
       "   avg_likes  avg_comments  avg_followers  avg_posts  max_likes  min_likes  \\\n",
       "0      97.50          3.00        13178.0     1967.0        113         59   \n",
       "1      91.75          9.25         4228.0     1402.0        174         39   \n",
       "2      33.00          3.50         2212.0     2471.0         46         23   \n",
       "3      20.00          3.50          203.0     1838.0         26         16   \n",
       "4      13.20          1.20          132.0      309.0         18          9   \n",
       "\n",
       "   avg_views  likes*followers  followers/post  comments/likes  focus dif  \\\n",
       "0   333.1667      1133.514446        6.699542        0.030769         54   \n",
       "1   308.6250       622.831438        3.015692        0.100817        135   \n",
       "2   126.7500       270.177719        0.895184        0.106061         23   \n",
       "3    65.5000        63.718129        0.110446        0.175000         10   \n",
       "4    61.2000        41.742065        0.427184        0.090909          9   \n",
       "\n",
       "   focus ratio  \n",
       "0     1.915254  \n",
       "1     4.461538  \n",
       "2     2.000000  \n",
       "3     1.625000  \n",
       "4     2.000000  "
      ]
     },
     "execution_count": 3,
     "metadata": {},
     "output_type": "execute_result"
    }
   ],
   "source": [
    "user[\"likes*followers\"] = np.sqrt(user['avg_likes']*user[\"avg_followers\"])\n",
    "user[\"followers/post\"] = user[\"avg_followers\"] / user[\"avg_posts\"]\n",
    "user[\"comments/likes\"] = user[\"avg_comments\"] / user[\"avg_likes\"]\n",
    "user[\"focus dif\"] = user[\"max_likes\"] - user[\"min_likes\"]\n",
    "user[\"focus ratio\"] = user[\"max_likes\"] / user[\"min_likes\"]\n",
    "user.head()"
   ]
  },
  {
   "cell_type": "code",
   "execution_count": 4,
   "id": "4011bad1",
   "metadata": {},
   "outputs": [
    {
     "data": {
      "text/html": [
       "<div>\n",
       "<style scoped>\n",
       "    .dataframe tbody tr th:only-of-type {\n",
       "        vertical-align: middle;\n",
       "    }\n",
       "\n",
       "    .dataframe tbody tr th {\n",
       "        vertical-align: top;\n",
       "    }\n",
       "\n",
       "    .dataframe thead th {\n",
       "        text-align: right;\n",
       "    }\n",
       "</style>\n",
       "<table border=\"1\" class=\"dataframe\">\n",
       "  <thead>\n",
       "    <tr style=\"text-align: right;\">\n",
       "      <th></th>\n",
       "      <th>followers</th>\n",
       "      <th>views</th>\n",
       "    </tr>\n",
       "  </thead>\n",
       "  <tbody>\n",
       "    <tr>\n",
       "      <th>0</th>\n",
       "      <td>13178</td>\n",
       "      <td>250</td>\n",
       "    </tr>\n",
       "    <tr>\n",
       "      <th>1</th>\n",
       "      <td>13178</td>\n",
       "      <td>604</td>\n",
       "    </tr>\n",
       "    <tr>\n",
       "      <th>2</th>\n",
       "      <td>13178</td>\n",
       "      <td>239</td>\n",
       "    </tr>\n",
       "    <tr>\n",
       "      <th>3</th>\n",
       "      <td>13178</td>\n",
       "      <td>858</td>\n",
       "    </tr>\n",
       "    <tr>\n",
       "      <th>4</th>\n",
       "      <td>13178</td>\n",
       "      <td>271</td>\n",
       "    </tr>\n",
       "  </tbody>\n",
       "</table>\n",
       "</div>"
      ],
      "text/plain": [
       "   followers  views\n",
       "0      13178    250\n",
       "1      13178    604\n",
       "2      13178    239\n",
       "3      13178    858\n",
       "4      13178    271"
      ]
     },
     "execution_count": 4,
     "metadata": {},
     "output_type": "execute_result"
    }
   ],
   "source": [
    "follower.head()"
   ]
  },
  {
   "cell_type": "code",
   "execution_count": 5,
   "id": "c35279a2",
   "metadata": {},
   "outputs": [
    {
     "data": {
      "text/html": [
       "<div>\n",
       "<style scoped>\n",
       "    .dataframe tbody tr th:only-of-type {\n",
       "        vertical-align: middle;\n",
       "    }\n",
       "\n",
       "    .dataframe tbody tr th {\n",
       "        vertical-align: top;\n",
       "    }\n",
       "\n",
       "    .dataframe thead th {\n",
       "        text-align: right;\n",
       "    }\n",
       "</style>\n",
       "<table border=\"1\" class=\"dataframe\">\n",
       "  <thead>\n",
       "    <tr style=\"text-align: right;\">\n",
       "      <th></th>\n",
       "      <th>likes</th>\n",
       "      <th>views</th>\n",
       "    </tr>\n",
       "  </thead>\n",
       "  <tbody>\n",
       "    <tr>\n",
       "      <th>0</th>\n",
       "      <td>98</td>\n",
       "      <td>250</td>\n",
       "    </tr>\n",
       "    <tr>\n",
       "      <th>1</th>\n",
       "      <td>100</td>\n",
       "      <td>604</td>\n",
       "    </tr>\n",
       "    <tr>\n",
       "      <th>2</th>\n",
       "      <td>109</td>\n",
       "      <td>239</td>\n",
       "    </tr>\n",
       "    <tr>\n",
       "      <th>3</th>\n",
       "      <td>103</td>\n",
       "      <td>858</td>\n",
       "    </tr>\n",
       "    <tr>\n",
       "      <th>4</th>\n",
       "      <td>106</td>\n",
       "      <td>271</td>\n",
       "    </tr>\n",
       "  </tbody>\n",
       "</table>\n",
       "</div>"
      ],
      "text/plain": [
       "   likes  views\n",
       "0     98    250\n",
       "1    100    604\n",
       "2    109    239\n",
       "3    103    858\n",
       "4    106    271"
      ]
     },
     "execution_count": 5,
     "metadata": {},
     "output_type": "execute_result"
    }
   ],
   "source": [
    "likes.head()"
   ]
  },
  {
   "cell_type": "markdown",
   "id": "54bb4975",
   "metadata": {},
   "source": [
    "#### Create graphs "
   ]
  },
  {
   "cell_type": "code",
   "execution_count": 6,
   "id": "0ef1f3fd",
   "metadata": {
    "scrolled": true
   },
   "outputs": [
    {
     "name": "stdout",
     "output_type": "stream",
     "text": [
      "Mean views: 745.0688204134648\n"
     ]
    },
    {
     "data": {
      "image/png": "[encoded data removed]",
      "text/plain": [
       "<Figure size 432x288 with 1 Axes>"
      ]
     },
     "metadata": {
      "needs_background": "light"
     },
     "output_type": "display_data"
    },
    {
     "data": {
      "image/png": "[encoded data removed]",
      "text/plain": [
       "<Figure size 576x288 with 1 Axes>"
      ]
     },
     "metadata": {
      "needs_background": "light"
     },
     "output_type": "display_data"
    },
    {
     "data": {
      "text/plain": [
       "Text(0, 0.5, 'Views')"
      ]
     },
     "execution_count": 6,
     "metadata": {},
     "output_type": "execute_result"
    },
    {
     "data": {
      "image/png": "[encoded data removed]",
      "text/plain": [
       "<Figure size 576x288 with 1 Axes>"
      ]
     },
     "metadata": {
      "needs_background": "light"
     },
     "output_type": "display_data"
    }
   ],
   "source": [
    "views_log = np.log(user[\"avg_views\"])\n",
    "print(\"Mean views: {}\".format(np.exp(views_log.mean())))\n",
    "plt.hist(views_log,bins=100)\n",
    "plt.axvline(x=views_log.mean(),linestyle='--',color='cyan')\n",
    "plt.xscale(\"log\")\n",
    "plt.xlim(left=0.9,right=11)\n",
    "plt.xlabel(\"Log average Views\")\n",
    "plt.ylabel(\"Number of instagrammers\")\n",
    "plt.show()\n",
    "\n",
    "plt.figure(figsize=(8,4))\n",
    "plt.plot(follower[\"followers\"],follower[\"views\"],\".\")\n",
    "plt.xscale(\"log\")\n",
    "plt.yscale(\"log\")\n",
    "plt.xlabel(\"Followers\")\n",
    "plt.ylabel(\"Views\")\n",
    "plt.plot([1,10**8],[1,10**8],\"r-\")\n",
    "plt.show()\n",
    "\n",
    "plt.figure(figsize=(8,4))\n",
    "plt.plot(likes[\"likes\"],likes[\"views\"],\".\")\n",
    "plt.xscale(\"log\")\n",
    "plt.yscale(\"log\")\n",
    "plt.xlabel(\"Engagement\")\n",
    "plt.plot([1,2*10**8],[1,2*10**8],\"r-\")\n",
    "plt.ylabel(\"Views\")\n",
    "\n",
    "#https://stackoverflow.com/questions/46415327/matplotlib-plot-points-look-fuzzy-in-python-sharp-in-ipython"
   ]
  },
  {
   "cell_type": "markdown",
   "id": "84533b9e",
   "metadata": {},
   "source": [
    "#### Merging will be hard, followers are not unique "
   ]
  },
  {
   "cell_type": "code",
   "execution_count": 7,
   "id": "53c0c649",
   "metadata": {},
   "outputs": [
    {
     "data": {
      "text/html": [
       "<div>\n",
       "<style scoped>\n",
       "    .dataframe tbody tr th:only-of-type {\n",
       "        vertical-align: middle;\n",
       "    }\n",
       "\n",
       "    .dataframe tbody tr th {\n",
       "        vertical-align: top;\n",
       "    }\n",
       "\n",
       "    .dataframe thead th {\n",
       "        text-align: right;\n",
       "    }\n",
       "</style>\n",
       "<table border=\"1\" class=\"dataframe\">\n",
       "  <thead>\n",
       "    <tr style=\"text-align: right;\">\n",
       "      <th></th>\n",
       "      <th>followers</th>\n",
       "      <th>views</th>\n",
       "    </tr>\n",
       "  </thead>\n",
       "  <tbody>\n",
       "    <tr>\n",
       "      <th>0</th>\n",
       "      <td>13178</td>\n",
       "      <td>250</td>\n",
       "    </tr>\n",
       "    <tr>\n",
       "      <th>1</th>\n",
       "      <td>13178</td>\n",
       "      <td>604</td>\n",
       "    </tr>\n",
       "    <tr>\n",
       "      <th>2</th>\n",
       "      <td>13178</td>\n",
       "      <td>239</td>\n",
       "    </tr>\n",
       "    <tr>\n",
       "      <th>3</th>\n",
       "      <td>13178</td>\n",
       "      <td>858</td>\n",
       "    </tr>\n",
       "    <tr>\n",
       "      <th>4</th>\n",
       "      <td>13178</td>\n",
       "      <td>271</td>\n",
       "    </tr>\n",
       "    <tr>\n",
       "      <th>5</th>\n",
       "      <td>13178</td>\n",
       "      <td>317</td>\n",
       "    </tr>\n",
       "    <tr>\n",
       "      <th>6</th>\n",
       "      <td>13178</td>\n",
       "      <td>318</td>\n",
       "    </tr>\n",
       "    <tr>\n",
       "      <th>7</th>\n",
       "      <td>13178</td>\n",
       "      <td>126</td>\n",
       "    </tr>\n",
       "    <tr>\n",
       "      <th>136754</th>\n",
       "      <td>13178</td>\n",
       "      <td>1629</td>\n",
       "    </tr>\n",
       "    <tr>\n",
       "      <th>136755</th>\n",
       "      <td>13178</td>\n",
       "      <td>1866</td>\n",
       "    </tr>\n",
       "    <tr>\n",
       "      <th>136756</th>\n",
       "      <td>13178</td>\n",
       "      <td>1368</td>\n",
       "    </tr>\n",
       "  </tbody>\n",
       "</table>\n",
       "</div>"
      ],
      "text/plain": [
       "        followers  views\n",
       "0           13178    250\n",
       "1           13178    604\n",
       "2           13178    239\n",
       "3           13178    858\n",
       "4           13178    271\n",
       "5           13178    317\n",
       "6           13178    318\n",
       "7           13178    126\n",
       "136754      13178   1629\n",
       "136755      13178   1866\n",
       "136756      13178   1368"
      ]
     },
     "execution_count": 7,
     "metadata": {},
     "output_type": "execute_result"
    }
   ],
   "source": [
    "follower[follower['followers']== 13178].head(11)"
   ]
  },
  {
   "cell_type": "markdown",
   "id": "0d8bff90",
   "metadata": {},
   "source": [
    "#### Transform \"likes\" and \"followers\" using log scale , drop inf "
   ]
  },
  {
   "cell_type": "code",
   "execution_count": 18,
   "id": "c7607f93",
   "metadata": {},
   "outputs": [],
   "source": [
    "user_scaled = user.copy()\n",
    "user_scaled.loc(1)[\"avg_likes\"] = user[\"avg_likes\"] / np.log(user[\"avg_likes\"])\n",
    "user_scaled.loc(1)[\"avg_followers\"] = user[\"avg_followers\"] / np.log(user[\"avg_followers\"])\n",
    "user_scaled = user_scaled.loc[user_scaled[\"avg_likes\"] != np.inf,:]"
   ]
  },
  {
   "cell_type": "markdown",
   "id": "db0796b4",
   "metadata": {},
   "source": [
    "#### Using \"avg_views\" as the variable to predict"
   ]
  },
  {
   "cell_type": "markdown",
   "id": "f989eaf1",
   "metadata": {},
   "source": [
    "Random Forest unscaled"
   ]
  },
  {
   "cell_type": "code",
   "execution_count": 9,
   "id": "9e058b89",
   "metadata": {},
   "outputs": [
    {
     "name": "stdout",
     "output_type": "stream",
     "text": [
      "CV R2 score: 0.5782933842095097\n"
     ]
    },
    {
     "data": {
      "text/plain": [
       "array([0.60786177, 0.18599855, 0.74275372, 0.6778745 , 0.67697838])"
      ]
     },
     "execution_count": 9,
     "metadata": {},
     "output_type": "execute_result"
    }
   ],
   "source": [
    "x_full, y_full = user.drop(\"avg_views\",1), user[\"avg_views\"]\n",
    "forest = RandomForestRegressor()\n",
    "scores = cross_val_score(forest, x_full, y_full, scoring='r2', cv=5)\n",
    "print(\"CV R2 score: {}\".format(scores.mean()))\n",
    "scores\n"
   ]
  },
  {
   "cell_type": "markdown",
   "id": "d716ee6a",
   "metadata": {},
   "source": [
    "Random Forest scaled "
   ]
  },
  {
   "cell_type": "code",
   "execution_count": 19,
   "id": "42b70a29",
   "metadata": {},
   "outputs": [
    {
     "name": "stdout",
     "output_type": "stream",
     "text": [
      "CV R2 score: 0.5669912013948547\n"
     ]
    },
    {
     "data": {
      "text/plain": [
       "array([0.60451407, 0.20303972, 0.72917551, 0.6348303 , 0.6633964 ])"
      ]
     },
     "execution_count": 19,
     "metadata": {},
     "output_type": "execute_result"
    }
   ],
   "source": [
    "x_full, y_full = user_scaled.drop(\"avg_views\",1), user_scaled[\"avg_views\"]\n",
    "forest = RandomForestRegressor()\n",
    "scores = cross_val_score(forest, x_full, y_full, scoring='r2', cv=5)\n",
    "print(\"CV R2 score: {}\".format(scores.mean()))\n",
    "scores\n"
   ]
  },
  {
   "cell_type": "markdown",
   "id": "c60517e7",
   "metadata": {},
   "source": [
    "Ridge scaled"
   ]
  },
  {
   "cell_type": "code",
   "execution_count": 22,
   "id": "3568f2df",
   "metadata": {},
   "outputs": [
    {
     "name": "stdout",
     "output_type": "stream",
     "text": [
      "CV R2 score: 0.6176009849044936\n"
     ]
    },
    {
     "data": {
      "text/plain": [
       "array([0.64787687, 0.50037248, 0.61071777, 0.65533374, 0.67370406])"
      ]
     },
     "execution_count": 22,
     "metadata": {},
     "output_type": "execute_result"
    }
   ],
   "source": [
    "ridge = Ridge()\n",
    "scores = cross_val_score(ridge, x_full, y_full, scoring='r2', cv=5)\n",
    "print(\"CV R2 score: {}\".format(scores.mean()))\n",
    "scores\n"
   ]
  },
  {
   "cell_type": "code",
   "execution_count": 25,
   "id": "62cef1b1",
   "metadata": {},
   "outputs": [],
   "source": [
    "#user_scaled.describe()"
   ]
  }
 ],
 "metadata": {
  "kernelspec": {
   "display_name": "Python 3",
   "language": "python",
   "name": "python3"
  },
  "language_info": {
   "codemirror_mode": {
    "name": "ipython",
    "version": 3
   },
   "file_extension": ".py",
   "mimetype": "text/x-python",
   "name": "python",
   "nbconvert_exporter": "python",
   "pygments_lexer": "ipython3",
   "version": "3.8.8"
  }
 },
 "nbformat": 4,
 "nbformat_minor": 5
}
