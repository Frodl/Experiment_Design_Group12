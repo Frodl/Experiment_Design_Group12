{
 "cells": [
  {
   "cell_type": "markdown",
   "id": "b31afc42",
   "metadata": {},
   "source": [
    "# Measuring Influence on Instagram: A Network-Oblivious Approach\n",
    "## by Segev et al.\n",
    "\n",
    "#### Reproduced by Florentin Huemer, Fraenzi Mueller, Naida Dzigal"
   ]
  },
  {
   "cell_type": "markdown",
   "id": "bc80b5d4",
   "metadata": {},
   "source": [
    "### Import Libraries"
   ]
  },
  {
   "cell_type": "code",
   "execution_count": 53,
   "id": "c2fd0d85",
   "metadata": {},
   "outputs": [],
   "source": [
    "import numpy as np\n",
    "import pandas as pd\n",
    "import matplotlib\n",
    "import matplotlib.pyplot as plt\n",
    "import sklearn\n",
    "from sklearn.feature_selection import RFE, RFECV\n",
    "from sklearn.ensemble import RandomForestRegressor\n",
    "from sklearn.linear_model import LinearRegression, Ridge\n",
    "from sklearn.metrics import r2_score\n",
    "from scipy.stats import zscore\n",
    "from sklearn.pipeline import Pipeline\n",
    "from sklearn.model_selection import train_test_split, RepeatedKFold, cross_val_score"
   ]
  },
  {
   "cell_type": "markdown",
   "id": "d5d3f58e",
   "metadata": {},
   "source": [
    "### Load Datasets"
   ]
  },
  {
   "cell_type": "markdown",
   "id": "312d2774",
   "metadata": {},
   "source": [
    "download data from https://klear.com/sigir/instagram_data.zip"
   ]
  },
  {
   "cell_type": "code",
   "execution_count": 64,
   "id": "2b647e2a",
   "metadata": {},
   "outputs": [
    {
     "name": "stdout",
     "output_type": "stream",
     "text": [
      "shape:  (1422894, 2)\n"
     ]
    },
    {
     "data": {
      "text/html": [
       "<div>\n",
       "<style scoped>\n",
       "    .dataframe tbody tr th:only-of-type {\n",
       "        vertical-align: middle;\n",
       "    }\n",
       "\n",
       "    .dataframe tbody tr th {\n",
       "        vertical-align: top;\n",
       "    }\n",
       "\n",
       "    .dataframe thead th {\n",
       "        text-align: right;\n",
       "    }\n",
       "</style>\n",
       "<table border=\"1\" class=\"dataframe\">\n",
       "  <thead>\n",
       "    <tr style=\"text-align: right;\">\n",
       "      <th></th>\n",
       "      <th>followers</th>\n",
       "      <th>views</th>\n",
       "    </tr>\n",
       "  </thead>\n",
       "  <tbody>\n",
       "    <tr>\n",
       "      <th>0</th>\n",
       "      <td>13178</td>\n",
       "      <td>250</td>\n",
       "    </tr>\n",
       "    <tr>\n",
       "      <th>1</th>\n",
       "      <td>13178</td>\n",
       "      <td>604</td>\n",
       "    </tr>\n",
       "    <tr>\n",
       "      <th>2</th>\n",
       "      <td>13178</td>\n",
       "      <td>239</td>\n",
       "    </tr>\n",
       "    <tr>\n",
       "      <th>3</th>\n",
       "      <td>13178</td>\n",
       "      <td>858</td>\n",
       "    </tr>\n",
       "    <tr>\n",
       "      <th>4</th>\n",
       "      <td>13178</td>\n",
       "      <td>271</td>\n",
       "    </tr>\n",
       "  </tbody>\n",
       "</table>\n",
       "</div>"
      ],
      "text/plain": [
       "   followers  views\n",
       "0      13178    250\n",
       "1      13178    604\n",
       "2      13178    239\n",
       "3      13178    858\n",
       "4      13178    271"
      ]
     },
     "execution_count": 64,
     "metadata": {},
     "output_type": "execute_result"
    }
   ],
   "source": [
    "followers_views = pd.read_csv('followers_views.csv')\n",
    "print(\"shape: \", followers_views.shape)\n",
    "followers_views.head()"
   ]
  },
  {
   "cell_type": "code",
   "execution_count": 62,
   "id": "3cffbd09",
   "metadata": {},
   "outputs": [
    {
     "name": "stdout",
     "output_type": "stream",
     "text": [
      "shape:  (1426188, 2)\n"
     ]
    },
    {
     "data": {
      "text/html": [
       "<div>\n",
       "<style scoped>\n",
       "    .dataframe tbody tr th:only-of-type {\n",
       "        vertical-align: middle;\n",
       "    }\n",
       "\n",
       "    .dataframe tbody tr th {\n",
       "        vertical-align: top;\n",
       "    }\n",
       "\n",
       "    .dataframe thead th {\n",
       "        text-align: right;\n",
       "    }\n",
       "</style>\n",
       "<table border=\"1\" class=\"dataframe\">\n",
       "  <thead>\n",
       "    <tr style=\"text-align: right;\">\n",
       "      <th></th>\n",
       "      <th>likes</th>\n",
       "      <th>views</th>\n",
       "    </tr>\n",
       "  </thead>\n",
       "  <tbody>\n",
       "    <tr>\n",
       "      <th>0</th>\n",
       "      <td>98</td>\n",
       "      <td>250</td>\n",
       "    </tr>\n",
       "    <tr>\n",
       "      <th>1</th>\n",
       "      <td>100</td>\n",
       "      <td>604</td>\n",
       "    </tr>\n",
       "    <tr>\n",
       "      <th>2</th>\n",
       "      <td>109</td>\n",
       "      <td>239</td>\n",
       "    </tr>\n",
       "    <tr>\n",
       "      <th>3</th>\n",
       "      <td>103</td>\n",
       "      <td>858</td>\n",
       "    </tr>\n",
       "    <tr>\n",
       "      <th>4</th>\n",
       "      <td>106</td>\n",
       "      <td>271</td>\n",
       "    </tr>\n",
       "  </tbody>\n",
       "</table>\n",
       "</div>"
      ],
      "text/plain": [
       "   likes  views\n",
       "0     98    250\n",
       "1    100    604\n",
       "2    109    239\n",
       "3    103    858\n",
       "4    106    271"
      ]
     },
     "execution_count": 62,
     "metadata": {},
     "output_type": "execute_result"
    }
   ],
   "source": [
    "likes_views = pd.read_csv('likes_views.csv')\n",
    "print(\"shape: \", likes_views.shape)\n",
    "likes_views.head()"
   ]
  },
  {
   "cell_type": "code",
   "execution_count": 65,
   "id": "02fca562",
   "metadata": {},
   "outputs": [
    {
     "name": "stdout",
     "output_type": "stream",
     "text": [
      "shape:  (114781, 7)\n"
     ]
    },
    {
     "data": {
      "text/html": [
       "<div>\n",
       "<style scoped>\n",
       "    .dataframe tbody tr th:only-of-type {\n",
       "        vertical-align: middle;\n",
       "    }\n",
       "\n",
       "    .dataframe tbody tr th {\n",
       "        vertical-align: top;\n",
       "    }\n",
       "\n",
       "    .dataframe thead th {\n",
       "        text-align: right;\n",
       "    }\n",
       "</style>\n",
       "<table border=\"1\" class=\"dataframe\">\n",
       "  <thead>\n",
       "    <tr style=\"text-align: right;\">\n",
       "      <th></th>\n",
       "      <th>avg_likes</th>\n",
       "      <th>avg_comments</th>\n",
       "      <th>avg_followers</th>\n",
       "      <th>avg_posts</th>\n",
       "      <th>max_likes</th>\n",
       "      <th>min_likes</th>\n",
       "      <th>avg_views</th>\n",
       "    </tr>\n",
       "  </thead>\n",
       "  <tbody>\n",
       "    <tr>\n",
       "      <th>0</th>\n",
       "      <td>97.50</td>\n",
       "      <td>3.00</td>\n",
       "      <td>13178.0</td>\n",
       "      <td>1967.0</td>\n",
       "      <td>113</td>\n",
       "      <td>59</td>\n",
       "      <td>333.1667</td>\n",
       "    </tr>\n",
       "    <tr>\n",
       "      <th>1</th>\n",
       "      <td>91.75</td>\n",
       "      <td>9.25</td>\n",
       "      <td>4228.0</td>\n",
       "      <td>1402.0</td>\n",
       "      <td>174</td>\n",
       "      <td>39</td>\n",
       "      <td>308.6250</td>\n",
       "    </tr>\n",
       "    <tr>\n",
       "      <th>2</th>\n",
       "      <td>33.00</td>\n",
       "      <td>3.50</td>\n",
       "      <td>2212.0</td>\n",
       "      <td>2471.0</td>\n",
       "      <td>46</td>\n",
       "      <td>23</td>\n",
       "      <td>126.7500</td>\n",
       "    </tr>\n",
       "    <tr>\n",
       "      <th>3</th>\n",
       "      <td>20.00</td>\n",
       "      <td>3.50</td>\n",
       "      <td>203.0</td>\n",
       "      <td>1838.0</td>\n",
       "      <td>26</td>\n",
       "      <td>16</td>\n",
       "      <td>65.5000</td>\n",
       "    </tr>\n",
       "    <tr>\n",
       "      <th>4</th>\n",
       "      <td>13.20</td>\n",
       "      <td>1.20</td>\n",
       "      <td>132.0</td>\n",
       "      <td>309.0</td>\n",
       "      <td>18</td>\n",
       "      <td>9</td>\n",
       "      <td>61.2000</td>\n",
       "    </tr>\n",
       "  </tbody>\n",
       "</table>\n",
       "</div>"
      ],
      "text/plain": [
       "   avg_likes  avg_comments  avg_followers  avg_posts  max_likes  min_likes  \\\n",
       "0      97.50          3.00        13178.0     1967.0        113         59   \n",
       "1      91.75          9.25         4228.0     1402.0        174         39   \n",
       "2      33.00          3.50         2212.0     2471.0         46         23   \n",
       "3      20.00          3.50          203.0     1838.0         26         16   \n",
       "4      13.20          1.20          132.0      309.0         18          9   \n",
       "\n",
       "   avg_views  \n",
       "0   333.1667  \n",
       "1   308.6250  \n",
       "2   126.7500  \n",
       "3    65.5000  \n",
       "4    61.2000  "
      ]
     },
     "execution_count": 65,
     "metadata": {},
     "output_type": "execute_result"
    }
   ],
   "source": [
    "usersData = pd.read_csv('usersData.csv')\n",
    "print(\"shape: \", usersData.shape)\n",
    "usersData.head()"
   ]
  },
  {
   "cell_type": "markdown",
   "id": "f256d1d6",
   "metadata": {},
   "source": [
    "### Plot Figures\n",
    "\n",
    "#### Distributions per Instagrammer"
   ]
  },
  {
   "cell_type": "code",
   "execution_count": 78,
   "id": "d1cb15f0",
   "metadata": {},
   "outputs": [
    {
     "name": "stdout",
     "output_type": "stream",
     "text": [
      "Mean views from Log Average Views:  745.07\n",
      "Paper mean views from Log Average Views: 748.00\n"
     ]
    },
    {
     "data": {
      "image/png": "[encoded data removed]",
      "text/plain": [
       "<Figure size 288x216 with 1 Axes>"
      ]
     },
     "metadata": {
      "needs_background": "light"
     },
     "output_type": "display_data"
    },
    {
     "data": {
      "image/png": "[encoded data removed]",
      "text/plain": [
       "<Figure size 576x288 with 1 Axes>"
      ]
     },
     "metadata": {
      "needs_background": "light"
     },
     "output_type": "display_data"
    },
    {
     "data": {
      "text/plain": [
       "Text(42.248515624999996, 0.5, 'Views')"
      ]
     },
     "execution_count": 78,
     "metadata": {},
     "output_type": "execute_result"
    },
    {
     "data": {
      "image/png": "[encoded data removed]",
      "text/plain": [
       "<Figure size 576x288 with 1 Axes>"
      ]
     },
     "metadata": {
      "needs_background": "light"
     },
     "output_type": "display_data"
    }
   ],
   "source": [
    "#figure (a)\n",
    "views_log = np.log10(usersData[\"avg_views\"])\n",
    "print(\"Mean views from Log Average Views: \", round(float(format(10**(views_log.mean()))),2))\n",
    "print(\"Paper mean views from Log Average Views: 748.00\")\n",
    "plt.figure(figsize=[4,3])\n",
    "plt.hist(views_log,bins=100)\n",
    "plt.axvline(x=views_log.mean(),linestyle='--',color='cyan')\n",
    "plt.xscale(\"log\")\n",
    "plt.xlim(left=0.9,right=11)\n",
    "plt.xlabel(\"Log Average Views\")\n",
    "plt.ylabel(\"Number of Instagrammers\")\n",
    "plt.title(\"(a) Views Histogram\", fontweight=\"bold\")\n",
    "plt.savefig('./Views_Histogram.jpg')\n",
    "plt.show()\n",
    "\n",
    "#figure(b)\n",
    "plt.figure(figsize=(8,4))\n",
    "plt.plot(followers_views[\"followers\"],followers_views[\"views\"],\".\")\n",
    "plt.xscale(\"log\")\n",
    "plt.yscale(\"log\")\n",
    "plt.xlabel(\"Followers\")\n",
    "plt.ylabel(\"Views\")\n",
    "plt.plot([1,10**8],[1,10**8],\"r-\")\n",
    "plt.title(\"(b) Views per Followers\", fontweight=\"bold\")\n",
    "plt.savefig('./Views_per_Followers.jpg')\n",
    "plt.show()\n",
    "\n",
    "#figure(c)\n",
    "plt.figure(figsize=(8,4))\n",
    "plt.plot(likes_views[\"likes\"],likes_views[\"views\"],\".\")\n",
    "plt.xscale(\"log\")\n",
    "plt.yscale(\"log\")\n",
    "plt.xlabel(\"Engagement\")\n",
    "plt.plot([1,2*10**8],[1,2*10**8],\"r-\")\n",
    "plt.title(\"(c) Views per Likes\", fontweight=\"bold\")\n",
    "plt.savefig('./Views_per_Likes.jpg')\n",
    "plt.ylabel(\"Views\")"
   ]
  },
  {
   "cell_type": "markdown",
   "id": "0d9a0260",
   "metadata": {},
   "source": [
    "Figure (a) shows that this statistic behaves in a log-normal distribution."
   ]
  },
  {
   "cell_type": "markdown",
   "id": "09a78a1a",
   "metadata": {},
   "source": [
    "### Remove Outliers"
   ]
  },
  {
   "cell_type": "code",
   "execution_count": null,
   "id": "b6a4919d",
   "metadata": {},
   "outputs": [],
   "source": []
  },
  {
   "cell_type": "markdown",
   "id": "b81b51b7",
   "metadata": {},
   "source": [
    "### Add Features"
   ]
  },
  {
   "cell_type": "code",
   "execution_count": 79,
   "id": "18942655",
   "metadata": {},
   "outputs": [
    {
     "data": {
      "text/html": [
       "<div>\n",
       "<style scoped>\n",
       "    .dataframe tbody tr th:only-of-type {\n",
       "        vertical-align: middle;\n",
       "    }\n",
       "\n",
       "    .dataframe tbody tr th {\n",
       "        vertical-align: top;\n",
       "    }\n",
       "\n",
       "    .dataframe thead th {\n",
       "        text-align: right;\n",
       "    }\n",
       "</style>\n",
       "<table border=\"1\" class=\"dataframe\">\n",
       "  <thead>\n",
       "    <tr style=\"text-align: right;\">\n",
       "      <th></th>\n",
       "      <th>avg_likes</th>\n",
       "      <th>avg_comments</th>\n",
       "      <th>avg_followers</th>\n",
       "      <th>avg_posts</th>\n",
       "      <th>max_likes</th>\n",
       "      <th>min_likes</th>\n",
       "      <th>avg_views</th>\n",
       "      <th>sqrt(followers*likes)</th>\n",
       "      <th>followers/post</th>\n",
       "      <th>comments/likes</th>\n",
       "      <th>focus_diff_engmnt</th>\n",
       "      <th>focus_ratio_engmnt</th>\n",
       "    </tr>\n",
       "  </thead>\n",
       "  <tbody>\n",
       "    <tr>\n",
       "      <th>0</th>\n",
       "      <td>97.50</td>\n",
       "      <td>3.00</td>\n",
       "      <td>13178.0</td>\n",
       "      <td>1967.0</td>\n",
       "      <td>113</td>\n",
       "      <td>59</td>\n",
       "      <td>333.1667</td>\n",
       "      <td>1133.514446</td>\n",
       "      <td>6.699542</td>\n",
       "      <td>0.030769</td>\n",
       "      <td>54</td>\n",
       "      <td>0.522124</td>\n",
       "    </tr>\n",
       "    <tr>\n",
       "      <th>1</th>\n",
       "      <td>91.75</td>\n",
       "      <td>9.25</td>\n",
       "      <td>4228.0</td>\n",
       "      <td>1402.0</td>\n",
       "      <td>174</td>\n",
       "      <td>39</td>\n",
       "      <td>308.6250</td>\n",
       "      <td>622.831438</td>\n",
       "      <td>3.015692</td>\n",
       "      <td>0.100817</td>\n",
       "      <td>135</td>\n",
       "      <td>0.224138</td>\n",
       "    </tr>\n",
       "    <tr>\n",
       "      <th>2</th>\n",
       "      <td>33.00</td>\n",
       "      <td>3.50</td>\n",
       "      <td>2212.0</td>\n",
       "      <td>2471.0</td>\n",
       "      <td>46</td>\n",
       "      <td>23</td>\n",
       "      <td>126.7500</td>\n",
       "      <td>270.177719</td>\n",
       "      <td>0.895184</td>\n",
       "      <td>0.106061</td>\n",
       "      <td>23</td>\n",
       "      <td>0.500000</td>\n",
       "    </tr>\n",
       "    <tr>\n",
       "      <th>3</th>\n",
       "      <td>20.00</td>\n",
       "      <td>3.50</td>\n",
       "      <td>203.0</td>\n",
       "      <td>1838.0</td>\n",
       "      <td>26</td>\n",
       "      <td>16</td>\n",
       "      <td>65.5000</td>\n",
       "      <td>63.718129</td>\n",
       "      <td>0.110446</td>\n",
       "      <td>0.175000</td>\n",
       "      <td>10</td>\n",
       "      <td>0.615385</td>\n",
       "    </tr>\n",
       "    <tr>\n",
       "      <th>4</th>\n",
       "      <td>13.20</td>\n",
       "      <td>1.20</td>\n",
       "      <td>132.0</td>\n",
       "      <td>309.0</td>\n",
       "      <td>18</td>\n",
       "      <td>9</td>\n",
       "      <td>61.2000</td>\n",
       "      <td>41.742065</td>\n",
       "      <td>0.427184</td>\n",
       "      <td>0.090909</td>\n",
       "      <td>9</td>\n",
       "      <td>0.500000</td>\n",
       "    </tr>\n",
       "  </tbody>\n",
       "</table>\n",
       "</div>"
      ],
      "text/plain": [
       "   avg_likes  avg_comments  avg_followers  avg_posts  max_likes  min_likes  \\\n",
       "0      97.50          3.00        13178.0     1967.0        113         59   \n",
       "1      91.75          9.25         4228.0     1402.0        174         39   \n",
       "2      33.00          3.50         2212.0     2471.0         46         23   \n",
       "3      20.00          3.50          203.0     1838.0         26         16   \n",
       "4      13.20          1.20          132.0      309.0         18          9   \n",
       "\n",
       "   avg_views  sqrt(followers*likes)  followers/post  comments/likes  \\\n",
       "0   333.1667            1133.514446        6.699542        0.030769   \n",
       "1   308.6250             622.831438        3.015692        0.100817   \n",
       "2   126.7500             270.177719        0.895184        0.106061   \n",
       "3    65.5000              63.718129        0.110446        0.175000   \n",
       "4    61.2000              41.742065        0.427184        0.090909   \n",
       "\n",
       "   focus_diff_engmnt  focus_ratio_engmnt  \n",
       "0                 54            0.522124  \n",
       "1                135            0.224138  \n",
       "2                 23            0.500000  \n",
       "3                 10            0.615385  \n",
       "4                  9            0.500000  "
      ]
     },
     "execution_count": 79,
     "metadata": {},
     "output_type": "execute_result"
    }
   ],
   "source": [
    "usersData = pd.read_csv('usersData.csv')\n",
    "usersData['sqrt(followers*likes)'] = np.sqrt(usersData['avg_followers']*usersData['avg_likes'])\n",
    "usersData['followers/post'] = usersData['avg_followers']/usersData['avg_posts']\n",
    "usersData['comments/likes'] = usersData['avg_comments']/usersData['avg_likes']\n",
    "usersData['focus_diff_engmnt'] = usersData['max_likes']-usersData['min_likes']\n",
    "usersData['focus_ratio_engmnt'] = usersData['min_likes']/usersData['max_likes']\n",
    "usersData.head()"
   ]
  },
  {
   "cell_type": "markdown",
   "id": "e022887c",
   "metadata": {},
   "source": [
    "## Regression models (R<sup>2</sup> and r<sub>s</sub> statistics)\n",
    "\n",
    "The target attribute \"Influence of Instagrammer\" is defined as the mean (or average) views per Instagrammer."
   ]
  },
  {
   "cell_type": "markdown",
   "id": "c1d2fd28",
   "metadata": {},
   "source": [
    "### Compute Baselines\n",
    "#### Followers Baseline Regression"
   ]
  },
  {
   "cell_type": "code",
   "execution_count": 29,
   "id": "ad568625",
   "metadata": {},
   "outputs": [
    {
     "name": "stdout",
     "output_type": "stream",
     "text": [
      "Paper R2: 0.211\n",
      "Paper rs: 0.757\n"
     ]
    }
   ],
   "source": [
    "print(\"Paper R2: 0.211\")\n",
    "print(\"Paper rs: 0.757\")"
   ]
  },
  {
   "cell_type": "markdown",
   "id": "e1afc7e5",
   "metadata": {},
   "source": [
    "#### Likes Baseline Regression"
   ]
  },
  {
   "cell_type": "code",
   "execution_count": 30,
   "id": "0e065126",
   "metadata": {},
   "outputs": [
    {
     "name": "stdout",
     "output_type": "stream",
     "text": [
      "Paper R2: 0.666\n",
      "Paper rs: 0.859\n"
     ]
    }
   ],
   "source": [
    "print(\"Paper R2: 0.666\")\n",
    "print(\"Paper rs: 0.859\")"
   ]
  },
  {
   "cell_type": "markdown",
   "id": "71b3fd75",
   "metadata": {},
   "source": [
    "#### Followers Baseline Multi-Regression"
   ]
  },
  {
   "cell_type": "code",
   "execution_count": 31,
   "id": "8f4a8535",
   "metadata": {},
   "outputs": [
    {
     "name": "stdout",
     "output_type": "stream",
     "text": [
      "Paper R2: 0.204\n",
      "Paper rs: 0.725\n"
     ]
    }
   ],
   "source": [
    "print(\"Paper R2: 0.204\")\n",
    "print(\"Paper rs: 0.725\")"
   ]
  },
  {
   "cell_type": "markdown",
   "id": "f21f85f7",
   "metadata": {},
   "source": [
    "#### Likes Baseline Multi-Regression"
   ]
  },
  {
   "cell_type": "code",
   "execution_count": 32,
   "id": "72671e65",
   "metadata": {},
   "outputs": [
    {
     "name": "stdout",
     "output_type": "stream",
     "text": [
      "Paper R2: 0.654\n",
      "Paper rs: 0.853\n"
     ]
    }
   ],
   "source": [
    "print(\"Paper R2: 0.654\")\n",
    "print(\"Paper rs: 0.853\")"
   ]
  },
  {
   "cell_type": "markdown",
   "id": "6917630a",
   "metadata": {},
   "source": [
    "### Regression\n",
    "#### Full Ridge Regression"
   ]
  },
  {
   "cell_type": "code",
   "execution_count": 33,
   "id": "8adebef9",
   "metadata": {},
   "outputs": [
    {
     "name": "stdout",
     "output_type": "stream",
     "text": [
      "Paper R2: 0.752\n",
      "Paper rs: 0.848\n"
     ]
    }
   ],
   "source": [
    "print(\"Paper R2: 0.752\")\n",
    "print(\"Paper rs: 0.848\")"
   ]
  },
  {
   "cell_type": "markdown",
   "id": "4b91a2a6",
   "metadata": {},
   "source": [
    "#### Full Random Forest Regression"
   ]
  },
  {
   "cell_type": "code",
   "execution_count": 34,
   "id": "625d7558",
   "metadata": {},
   "outputs": [
    {
     "name": "stdout",
     "output_type": "stream",
     "text": [
      "Paper R2: 0.626\n",
      "Paper r2: 0.869\n"
     ]
    }
   ],
   "source": [
    "print(\"Paper R2: 0.626\")\n",
    "print(\"Paper r2: 0.869\")"
   ]
  },
  {
   "cell_type": "markdown",
   "id": "8e65a58f",
   "metadata": {},
   "source": [
    "### Multiregression\n",
    "#### Full Ridge Multi-Regression"
   ]
  },
  {
   "cell_type": "code",
   "execution_count": 36,
   "id": "bfd66b35",
   "metadata": {},
   "outputs": [
    {
     "name": "stdout",
     "output_type": "stream",
     "text": [
      "Paper R2: 0.727\n",
      "Paper rs: 0.821\n"
     ]
    }
   ],
   "source": [
    "print(\"Paper R2: 0.727\")\n",
    "print(\"Paper rs: 0.821\")"
   ]
  },
  {
   "cell_type": "markdown",
   "id": "2155c8f7",
   "metadata": {},
   "source": [
    "#### Full Random Forest Multi-Regression"
   ]
  },
  {
   "cell_type": "code",
   "execution_count": 35,
   "id": "5ee7d8c4",
   "metadata": {},
   "outputs": [
    {
     "name": "stdout",
     "output_type": "stream",
     "text": [
      "Paper R2: 0.621\n",
      "Paper rs: 0.861\n"
     ]
    }
   ],
   "source": [
    "print(\"Paper R2: 0.621\")\n",
    "print(\"Paper rs: 0.861\")"
   ]
  },
  {
   "cell_type": "markdown",
   "id": "a533104b",
   "metadata": {},
   "source": [
    "### Recursive Feature Elimination\n",
    "#### Minimal Ridge Regression"
   ]
  },
  {
   "cell_type": "code",
   "execution_count": 38,
   "id": "6adad9ae",
   "metadata": {},
   "outputs": [
    {
     "name": "stdout",
     "output_type": "stream",
     "text": [
      "Paper R2: 0.723\n",
      "Paper rs: 0.818\n"
     ]
    }
   ],
   "source": [
    "print(\"Paper R2: 0.723\")\n",
    "print(\"Paper rs: 0.818\")"
   ]
  },
  {
   "cell_type": "markdown",
   "id": "179f472d",
   "metadata": {},
   "source": [
    "#### Minimal Random Forest Regression"
   ]
  },
  {
   "cell_type": "code",
   "execution_count": 37,
   "id": "1d9307f6",
   "metadata": {},
   "outputs": [
    {
     "name": "stdout",
     "output_type": "stream",
     "text": [
      "Paper R2: 0.611\n",
      "Paper rs: 0.859\n"
     ]
    }
   ],
   "source": [
    "print(\"Paper R2: 0.616\")\n",
    "print(\"Paper rs: 0.864\")"
   ]
  },
  {
   "cell_type": "markdown",
   "id": "ef3d1b93",
   "metadata": {},
   "source": [
    "#### Minimal Ridge Multi-Regression"
   ]
  },
  {
   "cell_type": "code",
   "execution_count": null,
   "id": "00f4ef2f",
   "metadata": {},
   "outputs": [],
   "source": [
    "print(\"Paper R2: 0.727\")\n",
    "print(\"Paper r2: 0.818\")"
   ]
  },
  {
   "cell_type": "markdown",
   "id": "69e21cdc",
   "metadata": {},
   "source": [
    "#### Minimal Random Forest Multi-Regression"
   ]
  },
  {
   "cell_type": "code",
   "execution_count": 39,
   "id": "b0ecb1db",
   "metadata": {},
   "outputs": [
    {
     "name": "stdout",
     "output_type": "stream",
     "text": [
      "Paper R2: 0.611\n",
      "Paper rs: 0.859\n"
     ]
    }
   ],
   "source": [
    "print(\"Paper R2: 0.611\")\n",
    "print(\"Paper rs: 0.859\")"
   ]
  },
  {
   "cell_type": "code",
   "execution_count": null,
   "id": "a8848880",
   "metadata": {},
   "outputs": [],
   "source": []
  }
 ],
 "metadata": {
  "kernelspec": {
   "display_name": "Python 3 (ipykernel)",
   "language": "python",
   "name": "python3"
  },
  "language_info": {
   "codemirror_mode": {
    "name": "ipython",
    "version": 3
   },
   "file_extension": ".py",
   "mimetype": "text/x-python",
   "name": "python",
   "nbconvert_exporter": "python",
   "pygments_lexer": "ipython3",
   "version": "3.9.7"
  }
 },
 "nbformat": 4,
 "nbformat_minor": 5
}
